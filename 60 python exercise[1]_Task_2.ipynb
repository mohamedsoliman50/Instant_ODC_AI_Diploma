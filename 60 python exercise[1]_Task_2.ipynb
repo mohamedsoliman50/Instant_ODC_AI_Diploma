{
 "cells": [
  {
   "cell_type": "markdown",
   "id": "759d04ba",
   "metadata": {},
   "source": [
    "**1-Write a Python program to calculate the length of a string using 2 ways"
   ]
  },
  {
   "cell_type": "code",
   "execution_count": 2,
   "id": "e434c950",
   "metadata": {},
   "outputs": [
    {
     "name": "stdout",
     "output_type": "stream",
     "text": [
      "please enter your name : mohamed moahmed abdel fattah amin soliman\n",
      "the length of string is 41\n"
     ]
    }
   ],
   "source": [
    "name = input(\"please enter your name : \")\n",
    "print(f\"the length of string is {len(name)}\")"
   ]
  },
  {
   "cell_type": "code",
   "execution_count": 3,
   "id": "7a2dfa32",
   "metadata": {},
   "outputs": [
    {
     "name": "stdout",
     "output_type": "stream",
     "text": [
      "please enter your name :mohamed soliman\n",
      "the length of string is 15\n"
     ]
    }
   ],
   "source": [
    "name =input(\"please enter your name :\")\n",
    "count = 0 \n",
    "for char in name :\n",
    "    count+=1\n",
    "print(f\"the length of string is {count}\")"
   ]
  },
  {
   "cell_type": "markdown",
   "id": "d7cc9da7",
   "metadata": {},
   "source": [
    "**2-Write a Python program to get a string made of the first 2 and last 2 characters of a given string. If the string length is less than 2, return the empty string instead (\"##Sample String : 'w3resource'\n",
    "Expected Result : 'w3ce'\n",
    "##Sample String : 'w3'\n",
    "Expected Result : 'w3w3'\n",
    "##Sample String : ' w'\n",
    "Expected Result : Empty String)"
   ]
  },
  {
   "cell_type": "code",
   "execution_count": 14,
   "id": "dafa9dd8",
   "metadata": {},
   "outputs": [
    {
     "name": "stdout",
     "output_type": "stream",
     "text": [
      "w3ce\n",
      "w3w3\n",
      "empty string\n",
      "please enter letter: AD\n",
      "ADAD\n"
     ]
    }
   ],
   "source": [
    "def string(string):\n",
    "    if len(string) <2 :\n",
    "        return \"empty string\"\n",
    "    else :\n",
    "        return string[0:2] + string[-2:]  #[\"w3resource\"]\n",
    "string_1 = \"w3resource\"                   #[\"w3ce\"]\n",
    "string_2 = \"w3\"\n",
    "string_3 = \"w\"\n",
    "print(string(string_1))\n",
    "print(string(string_2))\n",
    "print(string(string_3))\n",
    "# another solve \n",
    "name = input(\"please enter letter: \")\n",
    "if len(name) < 2:\n",
    "    print(name)\n",
    "else:\n",
    "    print(name[0:2] + name[-2:])\n"
   ]
  },
  {
   "cell_type": "markdown",
   "id": "1534f956",
   "metadata": {},
   "source": [
    "**3-Write a Python program to add 'ing' at the end of a given string (length should be at least 3). If the given string already ends with 'ing', add 'ly' instead. If the string length of the given string is less than 3, leave it unchanged. (Sample String : 'abc'\n",
    "Expected Result : 'abcing')"
   ]
  },
  {
   "cell_type": "code",
   "execution_count": 21,
   "id": "7ff8cec4",
   "metadata": {},
   "outputs": [
    {
     "name": "stdout",
     "output_type": "stream",
     "text": [
      "Please enter a value (enter '0' to exit): abc\n",
      "Please enter a value (enter '0' to exit): abcing\n",
      "Please enter a value (enter '0' to exit): ab\n",
      "Please enter a value (enter '0' to exit): 0\n",
      "['abcing', 'abcingly', 'ab']\n"
     ]
    }
   ],
   "source": [
    "def add_string(value):\n",
    "    result = []\n",
    "    for string in value:   # string ==user input\n",
    "        if len(string) < 3:\n",
    "            result.append(string)\n",
    "        elif string[-3:] == \"ing\":\n",
    "            result.append(string + \"ly\")\n",
    "        else:\n",
    "            result.append(string + \"ing\")\n",
    "    return result\n",
    "\n",
    "my_list = []\n",
    "while True:\n",
    "    user_input = input(\"Please enter a value (enter '0' to exit): \")\n",
    "    if user_input == \"0\":\n",
    "        break\n",
    "    my_list.append(user_input)\n",
    "\n",
    "print(add_string(my_list))"
   ]
  },
  {
   "cell_type": "markdown",
   "id": "1c0a6627",
   "metadata": {},
   "source": [
    "**4-Write a Python function that takes a list of words and return the longest word and the length of the longest one\n",
    "(Longest word: Exercises\n",
    "Length of the longest word: 9)"
   ]
  },
  {
   "cell_type": "code",
   "execution_count": 7,
   "id": "397341d9",
   "metadata": {},
   "outputs": [
    {
     "name": "stdout",
     "output_type": "stream",
     "text": [
      "please enter names : exercises\n",
      "please enter names : 0\n",
      "(9, 'exercises')\n"
     ]
    }
   ],
   "source": [
    "def returnword():\n",
    "    counter = 0 \n",
    "    maxword  = None \n",
    "    for word in list :\n",
    "        if len(word) > counter :\n",
    "            counter = len(word)\n",
    "            maxword = word \n",
    "    return counter,maxword\n",
    "    \n",
    "list =[]\n",
    "while True :\n",
    "    word=input(\"please enter names : \")\n",
    "    if word ==\"0\":\n",
    "        break\n",
    "    list.append(word)\n",
    "print(returnword())\n"
   ]
  },
  {
   "cell_type": "markdown",
   "id": "53a03a6a",
   "metadata": {},
   "source": [
    "**5-Write a Python program to change a given string to a newly string where the first and last chars have been exchanged using 2 ways (Sample String:abca  Expected Result:ebce)"
   ]
  },
  {
   "cell_type": "code",
   "execution_count": 15,
   "id": "fd327d2a",
   "metadata": {},
   "outputs": [
    {
     "name": "stdout",
     "output_type": "stream",
     "text": [
      "Please enter a string: abca\n",
      "['ebce']\n"
     ]
    }
   ],
   "source": [
    "my_list = []\n",
    "name = input(\"Please enter a string: \").lower()\n",
    "my_list.append(name)\n",
    "\n",
    "if my_list and my_list[0].startswith(\"a\"):\n",
    "    my_list[0] = my_list[0].replace(\"a\", \"e\")\n",
    "else:\n",
    "    my_list[2] = my_list[2].replace(\"a\", \"e\")\n",
    "\n",
    "print(my_list)"
   ]
  },
  {
   "cell_type": "code",
   "execution_count": null,
   "id": "285788b4",
   "metadata": {},
   "outputs": [],
   "source": []
  },
  {
   "cell_type": "markdown",
   "id": "25f89808",
   "metadata": {},
   "source": [
    "**6-Write a Python program to remove characters that have odd index values in a given string (Sample String:abca Expected Result:ac)"
   ]
  },
  {
   "cell_type": "code",
   "execution_count": 16,
   "id": "05959bd7",
   "metadata": {},
   "outputs": [
    {
     "name": "stdout",
     "output_type": "stream",
     "text": [
      "Enter a string: mohamed\n",
      "Original string:  mohamed\n",
      "New string:  mhmd\n"
     ]
    }
   ],
   "source": [
    "string = input(\"Enter a string: \")\n",
    "new_string = string[::2]\n",
    "print(\"Original string: \", string)\n",
    "print(\"New string: \", new_string)"
   ]
  },
  {
   "cell_type": "markdown",
   "id": "eb16e898",
   "metadata": {},
   "source": [
    "**7-Write a Python program to count the occurrences of each word in a given sentence (Sample String:amr and ahmed are frindes but amr is the tallest Expected Result:2)"
   ]
  },
  {
   "cell_type": "code",
   "execution_count": 3,
   "id": "01ce6cf5",
   "metadata": {
    "scrolled": true
   },
   "outputs": [
    {
     "name": "stdout",
     "output_type": "stream",
     "text": [
      "['amr', 'and', 'ahmed', 'are', 'frindes', 'but', 'amr', 'is', 'the', 'tallest']\n",
      "amr 2\n",
      "and 1\n",
      "ahmed 1\n",
      "are 1\n",
      "frindes 1\n",
      "but 1\n",
      "amr 2\n",
      "is 1\n",
      "the 1\n",
      "tallest 1\n"
     ]
    }
   ],
   "source": [
    "sentence = \"amr and ahmed are frindes but amr is the tallest\"\n",
    "word_list = sentence.split()\n",
    "print(word_list)\n",
    "for i in word_list :\n",
    "    print(i,sentence.count(i))"
   ]
  },
  {
   "cell_type": "markdown",
   "id": "4e8125f1",
   "metadata": {},
   "source": [
    "**8-Write a Python script that takes input from the user and displays that input back in upper and lower cases"
   ]
  },
  {
   "cell_type": "code",
   "execution_count": 4,
   "id": "66c8f778",
   "metadata": {},
   "outputs": [
    {
     "name": "stdout",
     "output_type": "stream",
     "text": [
      "please enter your name :mohamed\n",
      "MOHAMED\n",
      "mohamed\n"
     ]
    }
   ],
   "source": [
    "name = input(\"please enter your name :\")\n",
    "print(name.upper())\n",
    "print(name.lower())"
   ]
  },
  {
   "cell_type": "markdown",
   "id": "fcd68aa1",
   "metadata": {},
   "source": [
    "**9-Write a Python function to reverse a string if its length is a multiple of 4"
   ]
  },
  {
   "cell_type": "code",
   "execution_count": 5,
   "id": "0671a931",
   "metadata": {},
   "outputs": [
    {
     "name": "stdout",
     "output_type": "stream",
     "text": [
      "please enter your string :amir\n",
      "rima\n"
     ]
    }
   ],
   "source": [
    "string = input(\"please enter your string :\")\n",
    "if len(string) % 4 == 0 :\n",
    "    print(string[::-1])\n",
    "else :\n",
    "    print(string)"
   ]
  },
  {
   "cell_type": "markdown",
   "id": "b577c68d",
   "metadata": {},
   "source": [
    "**10- Write a Python program to remove a newline in Python"
   ]
  },
  {
   "cell_type": "code",
   "execution_count": 11,
   "id": "e0c6525a",
   "metadata": {},
   "outputs": [
    {
     "name": "stdout",
     "output_type": "stream",
     "text": [
      "mohamed \n",
      " soliman\n",
      "Mohamed  Soliman\n"
     ]
    }
   ],
   "source": [
    "name = \"mohamed \\n soliman\"\n",
    "print(name)\n",
    "name = name.replace(\"\\n\",\"\").title()\n",
    "print(name)"
   ]
  },
  {
   "cell_type": "markdown",
   "id": "80db5ae0",
   "metadata": {},
   "source": [
    "**11-Write a Python program to check whether a string starts with specified characters"
   ]
  },
  {
   "cell_type": "code",
   "execution_count": 5,
   "id": "0cc4e03e",
   "metadata": {},
   "outputs": [
    {
     "name": "stdout",
     "output_type": "stream",
     "text": [
      "Please enter a string: mohamed \n",
      "Please enter a string: soliman\n",
      "Please enter a string: omar\n",
      "Please enter a string: 0\n",
      " the name is mohamed  startswith letter  ['m', 's', 'a', 'f']\n",
      " the name is soliman startswith letter  ['m', 's', 'a', 'f']\n",
      "['mohamed ', 'soliman', 'omar']\n"
     ]
    }
   ],
   "source": [
    "my_list = []\n",
    "startswith = [\"m\", \"s\", \"a\", \"f\"]\n",
    "\n",
    "while True:\n",
    "    string = input(\"Please enter a string: \")\n",
    "    if string == \"0\":\n",
    "        break\n",
    "    \n",
    "    my_list.append(string)\n",
    "    \n",
    "for string in my_list:\n",
    "    if string[0] in startswith:\n",
    "        print(f\" the name is {string} startswith letter  {startswith}\")\n",
    "        \n",
    "print(my_list)"
   ]
  },
  {
   "cell_type": "markdown",
   "id": "593a68db",
   "metadata": {},
   "source": [
    "**12- Write a Python program to add prefix text to all of the lines in a string"
   ]
  },
  {
   "cell_type": "code",
   "execution_count": 34,
   "id": "d2e46ada",
   "metadata": {},
   "outputs": [
    {
     "name": "stdout",
     "output_type": "stream",
     "text": [
      "['MR .mohamed is best ', 'MR .soliman is awesome', 'MR .amin is amazing']\n"
     ]
    }
   ],
   "source": [
    "names = '''mohamed is best \n",
    "soliman is awesome\n",
    "amin is amazing\n",
    "''' \n",
    "lines = names.splitlines()\n",
    "newlines = [\"MR .\" + line for line in lines ]\n",
    "print(newlines)"
   ]
  },
  {
   "cell_type": "markdown",
   "id": "86fa1543",
   "metadata": {},
   "source": [
    "**13-Write a Python program to print the following numbers up to 2 decimal places"
   ]
  },
  {
   "cell_type": "code",
   "execution_count": 35,
   "id": "cd4a9d89",
   "metadata": {},
   "outputs": [
    {
     "name": "stdout",
     "output_type": "stream",
     "text": [
      "please enter number : 25.5725252\n",
      "the number is 25.57\n"
     ]
    }
   ],
   "source": [
    "num = float(input(\"please enter number : \"))\n",
    "print (f\"the number is {num:.2f}\")"
   ]
  },
  {
   "cell_type": "markdown",
   "id": "452c0ab0",
   "metadata": {},
   "source": [
    "**14-Write a Python program to print the following numbers up to 2 decimal places with a sign"
   ]
  },
  {
   "cell_type": "code",
   "execution_count": null,
   "id": "73e82479",
   "metadata": {},
   "outputs": [],
   "source": []
  },
  {
   "cell_type": "markdown",
   "id": "32b1811a",
   "metadata": {},
   "source": [
    "**15-Write a Python program to display a number with a comma separator"
   ]
  },
  {
   "cell_type": "code",
   "execution_count": 41,
   "id": "f30fc0b6",
   "metadata": {},
   "outputs": [
    {
     "name": "stdout",
     "output_type": "stream",
     "text": [
      "please enter num : 34.32\n"
     ]
    },
    {
     "data": {
      "text/plain": [
       "'34,32'"
      ]
     },
     "execution_count": 41,
     "metadata": {},
     "output_type": "execute_result"
    }
   ],
   "source": [
    "num = (input(\"please enter num : \"))\n",
    "num.replace(\".\",\",\")"
   ]
  },
  {
   "cell_type": "markdown",
   "id": "0477f487",
   "metadata": {},
   "source": [
    "**16-Write a Python program to reverse a string using 2 ways"
   ]
  },
  {
   "cell_type": "code",
   "execution_count": 43,
   "id": "aa8beec8",
   "metadata": {},
   "outputs": [
    {
     "name": "stdout",
     "output_type": "stream",
     "text": [
      "please enter your namemohamed\n",
      "demahom\n"
     ]
    }
   ],
   "source": [
    "name = input(\"please enter your name\")\n",
    "print(name[::-1])"
   ]
  },
  {
   "cell_type": "markdown",
   "id": "5afc3166",
   "metadata": {},
   "source": [
    " **17-Write a Python program to count repeated characters in a string (hint:use dictionary)"
   ]
  },
  {
   "cell_type": "code",
   "execution_count": 55,
   "id": "515a469c",
   "metadata": {},
   "outputs": [
    {
     "name": "stdout",
     "output_type": "stream",
     "text": [
      "please enter input string : mohamed soliman\n",
      "Character count: \n",
      " {'m': 3, 'o': 2, 'h': 1, 'a': 2, 'e': 1, 'd': 1, ' ': 1, 's': 1, 'l': 1, 'i': 1, 'n': 1}\n"
     ]
    }
   ],
   "source": [
    "# Input string\n",
    "input_string = input(\"please enter input string : \")\n",
    "\n",
    "# Create an empty dictionary\n",
    "char_count = {}\n",
    "for char in input_string:   # all char from char\n",
    "    if char in char_count:\n",
    "        char_count[char] += 1\n",
    "    else:\n",
    "        char_count[char] = 1\n",
    "print(\"Character count: \\n\", char_count )"
   ]
  },
  {
   "cell_type": "markdown",
   "id": "ae14e4e5",
   "metadata": {},
   "source": [
    "**18-Write a Python program to find the first non-repeating character in a given string"
   ]
  },
  {
   "cell_type": "code",
   "execution_count": 59,
   "id": "d73778e5",
   "metadata": {},
   "outputs": [
    {
     "name": "stdout",
     "output_type": "stream",
     "text": [
      "please enter your string : aaabbeeryui\n",
      "r\n"
     ]
    }
   ],
   "source": [
    "string = input(\"please enter your string : \")\n",
    "for char in string :\n",
    "    if string.count(char) == 1:\n",
    "        print(char)\n",
    "        break"
   ]
  },
  {
   "cell_type": "markdown",
   "id": "3adf5669",
   "metadata": {},
   "source": [
    "**19-Write a Python program to remove spaces from a given string"
   ]
  },
  {
   "cell_type": "code",
   "execution_count": 1,
   "id": "b4f22602",
   "metadata": {},
   "outputs": [
    {
     "name": "stdout",
     "output_type": "stream",
     "text": [
      "please enter your string : mohamed mohamed abdel fattah amin\n",
      "Mohamedmohamedabdelfattahamin\n"
     ]
    }
   ],
   "source": [
    "string = input(\"please enter your string : \")\n",
    "new_string = string.replace(\" \",\"\")\n",
    "print(new_string.title())"
   ]
  },
  {
   "cell_type": "markdown",
   "id": "734de60c",
   "metadata": {},
   "source": [
    "**20-Write a Python program to count the number of non-empty substrings of a given string"
   ]
  },
  {
   "cell_type": "code",
   "execution_count": 5,
   "id": "ef3f2274",
   "metadata": {},
   "outputs": [
    {
     "data": {
      "text/plain": [
       "28"
      ]
     },
     "execution_count": 5,
     "metadata": {},
     "output_type": "execute_result"
    }
   ],
   "source": [
    "def number_of_substring(str):\n",
    "    str_len =len(str)\n",
    "    return int(str_len *(str_len+1)/2)\n",
    "number_of_substring(\"mohamed\")"
   ]
  },
  {
   "cell_type": "markdown",
   "id": "509998e2",
   "metadata": {},
   "source": [
    "**21-write a Python program to swap first and last element of any list."
   ]
  },
  {
   "cell_type": "code",
   "execution_count": 6,
   "id": "68692d7f",
   "metadata": {
    "scrolled": true
   },
   "outputs": [
    {
     "name": "stdout",
     "output_type": "stream",
     "text": [
      "please enter yoru string : mohamed \n",
      "please enter yoru string : amin\n",
      "please enter yoru string : soliman\n",
      "please enter yoru string : 0\n",
      "['mohamed ', 'amin', 'soliman']\n",
      "['soliman', 'amin', 'mohamed ']\n"
     ]
    }
   ],
   "source": [
    "my_list = []\n",
    "while True :\n",
    "    string = input(\"please enter yoru string : \")\n",
    "    if string == \"0\":\n",
    "        break \n",
    "    my_list.append(string)\n",
    "print(my_list)\n",
    "my_list[0],my_list[-1] = my_list[-1] ,my_list[0]\n",
    "print(my_list)"
   ]
  },
  {
   "cell_type": "markdown",
   "id": "959e0837",
   "metadata": {},
   "source": [
    "**22-Given a list in Python and provided the positions of the elements, write a program to swap the two elements in the list. (Input : List = [23, 65, 19, 90], pos1 = 1, pos2 = 3\n",
    "Output : [19, 65, 23, 90])"
   ]
  },
  {
   "cell_type": "code",
   "execution_count": 18,
   "id": "225d8c6d",
   "metadata": {},
   "outputs": [
    {
     "name": "stdout",
     "output_type": "stream",
     "text": [
      "please enter pos1 :0\n",
      "please enter pos2 :2\n",
      "[19, 65, 23, 90]\n"
     ]
    }
   ],
   "source": [
    "list = [23,65,19,90]\n",
    "pos_1 = int(input(\"please enter pos1 :\"))\n",
    "pos_2 = int(input(\"please enter pos2 :\"))\n",
    "list[pos_1],list[pos_2] = list[pos_2],list[pos_1]\n",
    "print(list)\n"
   ]
  },
  {
   "cell_type": "markdown",
   "id": "66fc6682",
   "metadata": {},
   "source": []
  },
  {
   "cell_type": "code",
   "execution_count": 4,
   "id": "63ff8b43",
   "metadata": {},
   "outputs": [
    {
     "name": "stdout",
     "output_type": "stream",
     "text": [
      "please enter your number : 1\n",
      "please enter your number : 2\n",
      "please enter your number : 3\n",
      "please enter your number : 4\n",
      "please enter your number : 5\n",
      "please enter your number : 0\n",
      "['1', '2', '3', '4', '5']\n",
      "5\n",
      "the length is 5\n"
     ]
    }
   ],
   "source": [
    "\n",
    "##23- search for the all ways to know the length of list\n",
    "list = []\n",
    "while True :\n",
    "    num = input(\"please enter your number : \")\n",
    "    if num == \"0\":\n",
    "        break\n",
    "    list.append(num)\n",
    "print(list)\n",
    "print(len(list))\n",
    "counter = 0\n",
    "for i in list :\n",
    "    counter +=1\n",
    "print(f\"the length is {counter}\")"
   ]
  },
  {
   "cell_type": "code",
   "execution_count": 5,
   "id": "15f342de",
   "metadata": {},
   "outputs": [
    {
     "data": {
      "text/plain": [
       "50"
      ]
     },
     "execution_count": 5,
     "metadata": {},
     "output_type": "execute_result"
    }
   ],
   "source": [
    "##24-write a Python code to find the Maximum number of list of numbers.\n",
    "max([10,20,30,40,50])"
   ]
  },
  {
   "cell_type": "code",
   "execution_count": null,
   "id": "1a89b9d3",
   "metadata": {},
   "outputs": [],
   "source": [
    "**25-write a Python code to find the Minimum number of list of numbers."
   ]
  },
  {
   "cell_type": "code",
   "execution_count": 6,
   "id": "21f8cbd6",
   "metadata": {},
   "outputs": [
    {
     "data": {
      "text/plain": [
       "10"
      ]
     },
     "execution_count": 6,
     "metadata": {},
     "output_type": "execute_result"
    }
   ],
   "source": [
    "min([10,20,30,40,50])"
   ]
  },
  {
   "cell_type": "markdown",
   "id": "96822d96",
   "metadata": {},
   "source": [
    "**26-search for if an elem is existing in list"
   ]
  },
  {
   "cell_type": "code",
   "execution_count": 8,
   "id": "51ca5c9a",
   "metadata": {},
   "outputs": [
    {
     "name": "stdout",
     "output_type": "stream",
     "text": [
      "Not found\n"
     ]
    }
   ],
   "source": [
    "list = [1,2,3,4,5]\n",
    "if list.count(\"10\") ==0:\n",
    "    print(\"Not found\")"
   ]
  },
  {
   "cell_type": "markdown",
   "id": "d9557da7",
   "metadata": {},
   "source": [
    "**27- clear python list using different ways"
   ]
  },
  {
   "cell_type": "code",
   "execution_count": 12,
   "id": "b69858a3",
   "metadata": {},
   "outputs": [
    {
     "name": "stdout",
     "output_type": "stream",
     "text": [
      "[]\n"
     ]
    }
   ],
   "source": [
    "list = [5,10,20,30,50,70,10]\n",
    "list.clear()\n",
    "print(list)"
   ]
  },
  {
   "cell_type": "markdown",
   "id": "52160e88",
   "metadata": {},
   "source": [
    "**28-remove duplicated elements from a list"
   ]
  },
  {
   "cell_type": "code",
   "execution_count": 3,
   "id": "5e362228",
   "metadata": {},
   "outputs": [
    {
     "name": "stdout",
     "output_type": "stream",
     "text": [
      "please enter your num :1\n",
      "please enter your num :2\n",
      "please enter your num :3\n",
      "please enter your num :4\n",
      "please enter your num :5\n",
      "please enter your num :4\n",
      "please enter your num :3\n",
      "please enter your num :2\n",
      "please enter your num :1\n",
      "please enter your num :6\n",
      "please enter your num :0\n",
      "[1, 2, 3, 4, 5, 4, 3, 2, 1, 6]\n",
      "the element 4 is found\n",
      "the element 3 is found\n",
      "the element 2 is found\n",
      "the element 1 is found\n",
      "[1, 2, 3, 4, 5, 6]\n"
     ]
    }
   ],
   "source": [
    "list = []\n",
    "new_list = []\n",
    "while True :\n",
    "    num = int(input(\"please enter your num :\"))\n",
    "    if num == int(\"0\"):\n",
    "        break\n",
    "    list.append(num)\n",
    "print(list)\n",
    "for i in range(0,len(list)) :\n",
    "    if list[i] not in new_list :\n",
    "        new_list.append(list[i])\n",
    "    else :\n",
    "        print(f\"the element {list[i]} is found\")\n",
    "print(new_list)"
   ]
  },
  {
   "cell_type": "markdown",
   "id": "282337f7",
   "metadata": {},
   "source": [
    "**29-Given list values and keys list, convert these values to key value pairs in form of list of dictionaries. (Input : test_list = [“Gfg”, 3, “is”, 8], key_list = [“name”, “id”]\n",
    "Output : [{‘name’: ‘Gfg’, ‘id’: 3}, {‘name’: ‘is’, ‘id’: 8}])"
   ]
  },
  {
   "cell_type": "code",
   "execution_count": 5,
   "id": "4d4e2d28",
   "metadata": {},
   "outputs": [
    {
     "name": "stdout",
     "output_type": "stream",
     "text": [
      "List of dictionaries: [{'name': 'Gfg', 'id': 3}, {'name': 'is', 'id': 8}]\n"
     ]
    }
   ],
   "source": [
    "test_list = [\"Gfg\", 3, \"is\", 8]\n",
    "key_list = [\"name\", \"id\"]\n",
    "# i = 0 ,j =0  name:\"GFG\"\n",
    "# i = 0 ,j =1  id :3\n",
    "# i = 1 ,j =0  name:is\n",
    "# i=1 ,j=1   id :8\n",
    "# Initialize an empty list to store dictionaries\n",
    "dict_list = []\n",
    "\n",
    "# Iterate over each pair of values and keys\n",
    "for i in range(len(test_list)//len(key_list)):\n",
    "    # Create a dictionary with each pair of values and keys\n",
    "    temp_dict = {}\n",
    "    for j in range(len(key_list)):\n",
    "        temp_dict[key_list[j]] = test_list[i*len(key_list) + j]\n",
    "    # Add the dictionary to the list\n",
    "    dict_list.append(temp_dict)\n",
    "\n",
    "# Print the list of dictionaries\n",
    "print(\"List of dictionaries:\", dict_list)"
   ]
  },
  {
   "cell_type": "markdown",
   "id": "c26b6e9f",
   "metadata": {},
   "source": [
    "**30-write a python program to count unique values inside a list using different ways"
   ]
  },
  {
   "cell_type": "code",
   "execution_count": 15,
   "id": "72132667",
   "metadata": {},
   "outputs": [
    {
     "name": "stdout",
     "output_type": "stream",
     "text": [
      "please enter your number : 1\n",
      "please enter your number : 3\n",
      "please enter your number : 5\n",
      "please enter your number : 7\n",
      "please enter your number : 11\n",
      "please enter your number : 14\n",
      "please enter your number : 1\n",
      "please enter your number : 19\n",
      "please enter your number : 21\n",
      "please enter your number : 23\n",
      "please enter your number : 25\n",
      "please enter your number : 0\n",
      " the list is [1, 3, 5, 7, 11, 14, 1, 19, 21, 23, 25]\n",
      "the number is not unique: 14\n",
      "the number is unique [1, 3, 5, 7, 11, 19, 21, 23, 25]\n"
     ]
    }
   ],
   "source": [
    "list = []\n",
    "new_list = []\n",
    "while True :\n",
    "    num = int(input(\"please enter your number : \"))\n",
    "    if num == 0:\n",
    "        break \n",
    "    list.append(num)\n",
    "print(f\" the list is {list}\")\n",
    "for i in range(0,len(list)):\n",
    "    if (list[i] not in new_list) and (list[i] % 2 != 0):\n",
    "        new_list.append(list[i])\n",
    "    elif list[i] not in new_list:\n",
    "        print(f\"the number is not unique: {list[i]}\")\n",
    "print(f\"the number is unique {new_list}\" )"
   ]
  },
  {
   "cell_type": "markdown",
   "id": "fed6677c",
   "metadata": {},
   "source": [
    "**31-write a python program Extract all elements with Frequency greater than K (Input : test_list = [4, 6, 4, 3, 3, 4, 3, 4, 3, 8], K = 3 \n",
    "Output : [4, 3] )"
   ]
  },
  {
   "cell_type": "code",
   "execution_count": 4,
   "id": "d81f3f9d",
   "metadata": {},
   "outputs": [
    {
     "name": "stdout",
     "output_type": "stream",
     "text": [
      "[4, 3]\n"
     ]
    }
   ],
   "source": [
    "test_list = [4, 6, 4, 3, 3, 4, 3, 4, 3, 8]\n",
    "K = 3\n",
    "\n",
    "result_list = []\n",
    "for item in test_list:\n",
    "    if test_list.count(item) >= K and item  not in result_list:\n",
    "        result_list.append(item)\n",
    "\n",
    "print(result_list)"
   ]
  },
  {
   "cell_type": "markdown",
   "id": "caca5224",
   "metadata": {},
   "source": [
    "**32-write a python program to find the Strongest Neighbour (Input: 1 2 2 3 4 5\n",
    "Output: 2 2 3 4 5)"
   ]
  },
  {
   "cell_type": "code",
   "execution_count": 26,
   "id": "951e4c73",
   "metadata": {},
   "outputs": [
    {
     "name": "stdout",
     "output_type": "stream",
     "text": [
      "[2, 2, 3, 4, 4, 5]\n"
     ]
    }
   ],
   "source": [
    "my_list = [1,2,2,3,4,1,5]\n",
    "new_list = []\n",
    "for i in range(1,len(my_list)):\n",
    "    n = max(my_list[i],my_list[i-1])\n",
    "    new_list.append(n)\n",
    "print(new_list)"
   ]
  },
  {
   "cell_type": "markdown",
   "id": "a9fa8baf",
   "metadata": {},
   "source": [
    "**33-write a Python Program to print all Possible Combinations from the three Digits (Input: [1, 2, 3]\n",
    "Output:\n",
    "1 2 3 ##\n",
    "1 3 2 ##\n",
    "2 1 3 ##\n",
    "2 3 1 ##\n",
    "3 1 2 ##\n",
    "3 2 1)"
   ]
  },
  {
   "cell_type": "code",
   "execution_count": 32,
   "id": "8c520a76",
   "metadata": {},
   "outputs": [
    {
     "name": "stdout",
     "output_type": "stream",
     "text": [
      "1 1 1\n",
      "1 1 2\n",
      "1 1 3\n",
      "1 2 1\n",
      "1 2 2\n",
      "1 2 3\n",
      "1 3 1\n",
      "1 3 2\n",
      "1 3 3\n",
      "2 1 1\n",
      "2 1 2\n",
      "2 1 3\n",
      "2 2 1\n",
      "2 2 2\n",
      "2 2 3\n",
      "2 3 1\n",
      "2 3 2\n",
      "2 3 3\n",
      "3 1 1\n",
      "3 1 2\n",
      "3 1 3\n",
      "3 2 1\n",
      "3 2 2\n",
      "3 2 3\n",
      "3 3 1\n",
      "3 3 2\n",
      "3 3 3\n"
     ]
    }
   ],
   "source": [
    "# Define the list of digits\n",
    "digits = [1, 2, 3]\n",
    "\n",
    "# Use nested loops to generate all possible combinations\n",
    "for digit1 in digits:\n",
    "    for digit2 in digits:\n",
    "        for digit3 in digits:\n",
    "            print(digit1, digit2, digit3)"
   ]
  },
  {
   "cell_type": "markdown",
   "id": "5288bb89",
   "metadata": {},
   "source": [
    "**34-write a Python program to find all the Combinations in the list with the given condition (Input: test_list = [1,2,3] \n",
    "Output: \n",
    " [1], [1, 2], [1, 2, 3], [1, 3]\n",
    " [2], [2, 3], [3])"
   ]
  },
  {
   "cell_type": "code",
   "execution_count": 44,
   "id": "59b89646",
   "metadata": {},
   "outputs": [
    {
     "name": "stdout",
     "output_type": "stream",
     "text": [
      "[[1], [1, 2], [1, 2, 3], [2], [2, 3], [3]]\n"
     ]
    }
   ],
   "source": [
    "# Define the list\n",
    "test_list = [1, 2, 3]\n",
    "\n",
    "# Create an empty list to store the combinations\n",
    "combinations = []\n",
    "\n",
    "# Use loops to create all possible combinations\n",
    "for i in range(len(test_list)):\n",
    "    for j in range(i + 1, len(test_list) + 1):\n",
    "        sub_list = test_list[i:j]\n",
    "        combinations.append(sub_list)\n",
    "\n",
    "# Print the combinations\n",
    "print(combinations)"
   ]
  },
  {
   "cell_type": "markdown",
   "id": "39973705",
   "metadata": {},
   "source": [
    "**35-write a Python program to get all unique combinations of two Lists (List_1 = [\"a\",\"b\"]\n",
    "List_2 = [1,2]\n",
    "Unique_combination = [[('a',1),('b',2)],[('a',2),('b',1)]] )"
   ]
  },
  {
   "cell_type": "code",
   "execution_count": 45,
   "id": "8c4ba22b",
   "metadata": {},
   "outputs": [
    {
     "name": "stdout",
     "output_type": "stream",
     "text": [
      "{(('b', 1), ('b', 2)), (('a', 2), ('b', 2)), (('a', 1), ('b', 2)), (('a', 1), ('a', 2)), (('a', 1), ('b', 1)), (('a', 2), ('b', 1))}\n"
     ]
    }
   ],
   "source": [
    "import itertools\n",
    "\n",
    "# Define the two lists\n",
    "List_1 = [\"a\", \"b\"]\n",
    "List_2 = [1, 2]\n",
    "\n",
    "# Use itertools.product() to create all possible combinations\n",
    "all_combinations = itertools.product(List_1, List_2)\n",
    "\n",
    "# Use a set comprehension to get unique combinations\n",
    "unique_combinations = {tuple(sorted(combination)) for combination in itertools.combinations(all_combinations, len(List_1))}\n",
    "\n",
    "# Print the final result\n",
    "print(unique_combinations)"
   ]
  },
  {
   "cell_type": "markdown",
   "id": "25199af5",
   "metadata": {},
   "source": [
    "**36-Remove all the occurrences of an element from a list in Python (Input : 1 1 2 3 4 5 1 2 1 \n",
    "\n",
    "**Output : 2 3 4 5 2)"
   ]
  },
  {
   "cell_type": "code",
   "execution_count": 46,
   "id": "6dc4c2ba",
   "metadata": {},
   "outputs": [
    {
     "name": "stdout",
     "output_type": "stream",
     "text": [
      "[2, 3, 4, 5, 2]\n"
     ]
    }
   ],
   "source": [
    "my_list = [1,1,2,3,4,5,1,2,1]\n",
    "remove_to_element = 1\n",
    "while remove_to_element in my_list:\n",
    "    my_list.remove(remove_to_element)\n",
    "print(my_list)\n",
    "    "
   ]
  },
  {
   "cell_type": "markdown",
   "id": "bf1a3c93",
   "metadata": {},
   "source": [
    "**37-write a python program to Replace index elements with elements in Other List (The original list 1 is : [‘Gfg’, ‘is’, ‘best’] The original list 2 is : [0, 1, 2, 1, 0, 0, 0, 2, 1, 1, 2, 0] The lists after index elements replacements is : [‘Gfg’, ‘is’, ‘best’, ‘is’, ‘Gfg’, ‘Gfg’, ‘Gfg’, ‘best’, ‘is’, ‘is’, ‘best’, ‘Gfg’])"
   ]
  },
  {
   "cell_type": "code",
   "execution_count": 50,
   "id": "fdd66a71",
   "metadata": {},
   "outputs": [
    {
     "name": "stdout",
     "output_type": "stream",
     "text": [
      "['Gfg', 'is', 'best', 'is', 'Gfg', 'Gfg', 'Gfg', 'best', 'is', 'is', 'best', 'Gfg']\n"
     ]
    }
   ],
   "source": [
    "# Define the original lists\n",
    "list_1 = [\"Gfg\", \"is\", \"best\"]\n",
    "list_2 = [0, 1, 2, 1, 0, 0, 0, 2, 1, 1, 2, 0]\n",
    "\n",
    "# Replace index elements with elements in other list\n",
    "for i in range(0,len(list_2)):\n",
    "    list_2[i] =list_1[list_2[i]]\n",
    "print(list_2)"
   ]
  },
  {
   "cell_type": "markdown",
   "id": "af0f56e8",
   "metadata": {},
   "source": [
    "**38- write python program to Retain records with N occurrences of K(Input : test_list = [(4, 5, 5, 4), (5, 4, 3)], K = 5, N = 2 \n",
    "Output : [(4, 5, 5, 4)]\n",
    "Input : test_list = [(4, 5, 5, 4), (5, 4, 3)], K = 5, N = 3 \n",
    "Output : [] )"
   ]
  },
  {
   "cell_type": "code",
   "execution_count": 60,
   "id": "67b06671",
   "metadata": {},
   "outputs": [
    {
     "name": "stdout",
     "output_type": "stream",
     "text": [
      "[(4, 5, 5, 4)]\n"
     ]
    }
   ],
   "source": [
    "# Define the input and parameters\n",
    "test_list = [(4, 5, 5, 4), (5, 4, 3)]\n",
    "K = 5\n",
    "N = 2\n",
    "\n",
    "# Get the sublists with N occurrences of K\n",
    "result = [sublist for sublist in test_list if sublist.count(K) == N]\n",
    "\n",
    "# Print the result\n",
    "print(result)"
   ]
  },
  {
   "cell_type": "markdown",
   "id": "de76f183",
   "metadata": {},
   "source": [
    "**39-write a Python Program to Sort the list according to the column using lambda\n",
    "array = [[1, 3, 3], [2, 1, 2], [3, 2, 1]]\n",
    "Output :\n",
    "Sorted array specific to column 0, [[1, 3, 3], [2, 1, 2], [3, 2, 1]]\n",
    "Sorted array specific to column 1, [[2, 1, 2], [3, 2, 1], [1, 3, 3]]\n",
    "Sorted array specific to column 2, [[3, 2, 1], [2, 1, 2], [1, 3, 3]]"
   ]
  },
  {
   "cell_type": "code",
   "execution_count": 74,
   "id": "dc883308",
   "metadata": {},
   "outputs": [
    {
     "name": "stdout",
     "output_type": "stream",
     "text": [
      "Sorted array specific to column 0: [[1, 3, 3], [2, 1, 2], [3, 2, 1]]\n",
      "Sorted array specific to column 1: [[2, 1, 2], [3, 2, 1], [1, 3, 3]]\n",
      "Sorted array specific to column 2: [[3, 2, 1], [2, 1, 2], [1, 3, 3]]\n"
     ]
    }
   ],
   "source": [
    "# Import the required library\n",
    "import pandas as pd\n",
    "\n",
    "# Define the input array\n",
    "array = [[1, 3, 3], [2, 1, 2], [3, 2, 1]]\n",
    "\n",
    "# Convert the array to a pandas DataFrame\n",
    "df = pd.DataFrame(array)\n",
    "\n",
    "# Sort the DataFrame by column using sort_values()\n",
    "sorted_df_col_0 = df.sort_values(by=0).values.tolist()\n",
    "sorted_df_col_1 = df.sort_values(by=1).values.tolist()\n",
    "sorted_df_col_2 = df.sort_values(by=2).values.tolist()\n",
    "\n",
    "# Print the sorted arrays\n",
    "print(\"Sorted array specific to column 0:\", sorted_df_col_0)\n",
    "print(\"Sorted array specific to column 1:\", sorted_df_col_1)\n",
    "print(\"Sorted array specific to column 2:\", sorted_df_col_2)"
   ]
  },
  {
   "cell_type": "code",
   "execution_count": null,
   "id": "d2e7b31f",
   "metadata": {},
   "outputs": [],
   "source": [
    "**40- write a program to Sort Python Dictionaries by Key or Value\n",
    "Input:\n",
    "{'ravi': 10, 'rajnish': 9, 'sanjeev': 15, 'yash': 2, 'suraj': 32}\n",
    "\n",
    "Output: \n",
    "{'rajnish': 9, 'ravi': 10, 'sanjeev': 15, 'suraj': 32, 'yash': 2}"
   ]
  },
  {
   "cell_type": "code",
   "execution_count": 75,
   "id": "a96db4a0",
   "metadata": {},
   "outputs": [
    {
     "name": "stdout",
     "output_type": "stream",
     "text": [
      "Sorted dictionary by keys: {'rajnish': 9, 'ravi': 10, 'sanjeev': 15, 'suraj': 32, 'yash': 2}\n",
      "Sorted dictionary by values: {'yash': 2, 'rajnish': 9, 'ravi': 10, 'sanjeev': 15, 'suraj': 32}\n"
     ]
    }
   ],
   "source": [
    "# Define the input dictionary\n",
    "my_dict = {'ravi': 10, 'rajnish': 9, 'sanjeev': 15, 'yash': 2, 'suraj': 32}\n",
    "\n",
    "# Sort the dictionary by keys using sorted() and key\n",
    "sorted_dict_keys = dict(sorted(my_dict.items()))\n",
    "\n",
    "# Sort the dictionary by values using sorted() and key\n",
    "sorted_dict_values = dict(sorted(my_dict.items(), key=lambda item: item[1]))\n",
    "\n",
    "# Print the sorted dictionaries\n",
    "print(\"Sorted dictionary by keys:\", sorted_dict_keys)\n",
    "print(\"Sorted dictionary by values:\", sorted_dict_values)"
   ]
  },
  {
   "cell_type": "markdown",
   "id": "ec63c23a",
   "metadata": {},
   "source": [
    "**41-write python program to Remove keys with Values Greater than K ( Including mixed values )\n",
    "nput : test_dict = {‘Gfg’ : 3, ‘is’ : 7, ‘best’ : 10, ‘for’ : 6, ‘geeks’ : ‘CS’},\n",
    "K = 7 \n",
    "Output : {‘Gfg’ : 3, ‘for’ : 6, ‘geeks’ : ‘CS’}"
   ]
  },
  {
   "cell_type": "code",
   "execution_count": 83,
   "id": "e39c3a40",
   "metadata": {},
   "outputs": [
    {
     "name": "stdout",
     "output_type": "stream",
     "text": [
      "Updated dictionary: {'Gfg': 3, 'is': 7, 'for': 6}\n"
     ]
    }
   ],
   "source": [
    "# Define the input dictionary\n",
    "test_dict = {'Gfg': 3, 'is': 7, 'best': 10, 'for': 6, 'geeks': 'CS'}\n",
    "K = 7\n",
    "\n",
    "# Create a new dictionary with keys having values less than or equal to K\n",
    "new_dict = {}\n",
    "for key in test_dict:\n",
    "    if isinstance(test_dict[key], int) and test_dict[key] <= K:\n",
    "        new_dict[key] = test_dict[key]\n",
    "\n",
    "# Print the updated dictionary\n",
    "print(\"Updated dictionary:\", new_dict)"
   ]
  },
  {
   "cell_type": "markdown",
   "id": "f143f0fe",
   "metadata": {},
   "source": [
    "**42-Write a Python program to concatenate the following dictionaries to create a new one.\n",
    "\n",
    "Sample Dictionary :\n",
    "dic1={1:10, 2:20}\n",
    "dic2={3:30, 4:40}\n",
    "dic3={5:50,6:60}\n",
    "Expected Result : {1: 10, 2: 20, 3: 30, 4: 40, 5: 50, 6: 60}"
   ]
  },
  {
   "cell_type": "code",
   "execution_count": 86,
   "id": "74ffdfea",
   "metadata": {},
   "outputs": [
    {
     "name": "stdout",
     "output_type": "stream",
     "text": [
      "Updated dictionary: {1: 10, 2: 20, 3: 30, 4: 40, 5: 50, 6: 60}\n"
     ]
    }
   ],
   "source": [
    "# Define the input dictionaries\n",
    "dic1 = {1: 10, 2: 20}\n",
    "dic2 = {3: 30, 4: 40}\n",
    "dic3 = {5: 50, 6: 60}\n",
    "\n",
    "# Use update() to merge the dictionaries\n",
    "new_dict = dic1.copy()\n",
    "new_dict.update(dic2)\n",
    "new_dict.update(dic3)\n",
    "\n",
    "# Print the updated dictionary\n",
    "print(\"Updated dictionary:\", new_dict)"
   ]
  },
  {
   "cell_type": "markdown",
   "id": "fb04c93c",
   "metadata": {},
   "source": [
    "**43-Write a Python program to iterate over dictionaries using for loops."
   ]
  },
  {
   "cell_type": "code",
   "execution_count": 90,
   "id": "6aebc470",
   "metadata": {},
   "outputs": [
    {
     "name": "stdout",
     "output_type": "stream",
     "text": [
      "Iterating over the dictionary using for loop:\n",
      "name : mohamed\n",
      "age : 21\n",
      "gender : Male\n"
     ]
    }
   ],
   "source": [
    "# Define a sample dictionary\n",
    "sample_dict = {'name': 'mohamed', 'age': 21, 'gender': 'Male'}\n",
    "\n",
    "# Iterate over the dictionary using for loops\n",
    "print(\"Iterating over the dictionary using for loop:\")\n",
    "for key in sample_dict:\n",
    "    print(key, \":\", sample_dict[key])"
   ]
  },
  {
   "cell_type": "markdown",
   "id": "5f491a9d",
   "metadata": {},
   "source": [
    "**44- Write a Python script to merge two Python dictionaries."
   ]
  },
  {
   "cell_type": "code",
   "execution_count": 97,
   "id": "b8a14028",
   "metadata": {},
   "outputs": [
    {
     "name": "stdout",
     "output_type": "stream",
     "text": [
      "{'a': 1, 'b': 2, 'c': 3, 'd': 4}\n"
     ]
    }
   ],
   "source": [
    "dict_1 = {'a': 1, 'b': 2}\n",
    "dict_2 = {'c': 3, 'd': 4}\n",
    "new_dict = dict_1.copy()\n",
    "new_dict.update(dict_2)\n",
    "print(new_dict)"
   ]
  },
  {
   "cell_type": "markdown",
   "id": "216fc72d",
   "metadata": {},
   "source": [
    "**45-Write a Python program to get the maximum and minimum values of a dictionary values."
   ]
  },
  {
   "cell_type": "code",
   "execution_count": 99,
   "id": "d6883f5f",
   "metadata": {},
   "outputs": [
    {
     "name": "stdout",
     "output_type": "stream",
     "text": [
      "the max value is :30\n",
      "the min value is :5\n"
     ]
    }
   ],
   "source": [
    "dictionary = {\"A\":10,\"B\":20 ,\"C\":5,\"D\":30}\n",
    "max_value = max(dictionary.values())\n",
    "min_value = min(dictionary.values())\n",
    "print(f\"the max value is :{max_value}\")\n",
    "print(f\"the min value is :{min_value}\")"
   ]
  },
  {
   "cell_type": "markdown",
   "id": "b6a53011",
   "metadata": {},
   "source": [
    "**46- Write a Python program to drop empty items from a given dictionary.\n",
    "Original Dictionary:\n",
    "{'c1': 'Red', 'c2': 'Green', 'c3': None}\n",
    "New Dictionary after dropping empty items:\n",
    "{'c1': 'Red', 'c2': 'Green'}"
   ]
  },
  {
   "cell_type": "code",
   "execution_count": 101,
   "id": "b5c6fecf",
   "metadata": {},
   "outputs": [
    {
     "name": "stdout",
     "output_type": "stream",
     "text": [
      "the original dict is : {'c1': 'Red', 'c2': 'Green', 'c3': None}\n",
      "New Dictionary after dropping empty items : {'c1': 'Red', 'c2': 'Green'}\n"
     ]
    }
   ],
   "source": [
    "original_dict = {'c1': 'Red', 'c2': 'Green', 'c3': None}\n",
    "new_dict = {}\n",
    "for key, value in original_dict.items():\n",
    "    if value is not None :\n",
    "        new_dict[key] = value\n",
    "print(f\"the original dict is : {original_dict}\")\n",
    "print(f\"New Dictionary after dropping empty items : {new_dict}\")"
   ]
  },
  {
   "cell_type": "markdown",
   "id": "46d718c7",
   "metadata": {},
   "source": [
    "**47-Write a Python program to create a tuple of numbers and print one item"
   ]
  },
  {
   "cell_type": "code",
   "execution_count": 109,
   "id": "13216ff5",
   "metadata": {},
   "outputs": [
    {
     "name": "stdout",
     "output_type": "stream",
     "text": [
      "the first item is :5\n",
      "the tuple is (5, 10, 15, 20, 25)\n"
     ]
    }
   ],
   "source": [
    "tuple = (5,10,15,20,25)\n",
    "print(f\"the first item is :{tuple[0]}\")\n",
    "print(f\"the tuple is {tuple}\")"
   ]
  },
  {
   "cell_type": "markdown",
   "id": "2be5b56b",
   "metadata": {},
   "source": [
    "**48-Write a Python program to unpack a tuple into several variables"
   ]
  },
  {
   "cell_type": "code",
   "execution_count": 106,
   "id": "595f44be",
   "metadata": {},
   "outputs": [
    {
     "name": "stdout",
     "output_type": "stream",
     "text": [
      "a: 10\n",
      "b: 30\n",
      "c: 50\n",
      "c: 70\n"
     ]
    }
   ],
   "source": [
    "num_tuple = (10,30,50,70)\n",
    "\n",
    "# Unpack the tuple into four separate variables\n",
    "a, b, c ,d = num_tuple\n",
    "\n",
    "# Print the variables\n",
    "print(\"a:\", a)\n",
    "print(\"b:\", b)\n",
    "print(\"c:\", c)\n",
    "print(\"c:\", d)\n"
   ]
  },
  {
   "cell_type": "markdown",
   "id": "392388a7",
   "metadata": {},
   "source": [
    "**49-Write a Python program to add an item to a tuple"
   ]
  },
  {
   "cell_type": "code",
   "execution_count": 114,
   "id": "54cc092e",
   "metadata": {},
   "outputs": [
    {
     "name": "stdout",
     "output_type": "stream",
     "text": [
      "New tuple: (1, 2, 3, 4, 5)\n"
     ]
    }
   ],
   "source": [
    "# Define a tuple\n",
    "num_tuple = (1, 2, 3)\n",
    "new_tuple = num_tuple + (4,5,)\n",
    "print(\"New tuple:\", new_tuple)"
   ]
  },
  {
   "cell_type": "markdown",
   "id": "3e8fd124",
   "metadata": {},
   "source": [
    "**50-Write a Python program to convert a tuple to a string"
   ]
  },
  {
   "cell_type": "code",
   "execution_count": 117,
   "id": "92a71ddc",
   "metadata": {},
   "outputs": [
    {
     "name": "stdout",
     "output_type": "stream",
     "text": [
      "Tuple as a string: 1, 2, 3, 4, 5\n"
     ]
    }
   ],
   "source": [
    "# Define a tuple\n",
    "num_tuple = (1,2,3,4,5)\n",
    "\n",
    "# Convert the tuple to a string\n",
    "num_string = ', '.join(map(str, num_tuple))\n",
    "print(\"Tuple as a string:\", num_string)"
   ]
  },
  {
   "cell_type": "markdown",
   "id": "f4f64ef4",
   "metadata": {},
   "source": [
    "**51-Write a Python program to convert a list to a tuple"
   ]
  },
  {
   "cell_type": "code",
   "execution_count": 123,
   "id": "210d56d3",
   "metadata": {},
   "outputs": [
    {
     "name": "stdout",
     "output_type": "stream",
     "text": [
      "List as a tuple: (10, 20, 30, 40, 50)\n"
     ]
    }
   ],
   "source": [
    "# Define a list\n",
    "num_list = [10,20,30,40,50]\n",
    "\n",
    "# Convert the list to a tuple using packing\n",
    "num_tuple = (*num_list,)\n",
    "\n",
    "# Print the tuple\n",
    "print(\"List as a tuple:\", num_tuple)"
   ]
  },
  {
   "cell_type": "markdown",
   "id": "b1e00ef7",
   "metadata": {},
   "source": [
    "**52-Write a Python program to reverse a tuple"
   ]
  },
  {
   "cell_type": "code",
   "execution_count": 124,
   "id": "f45bfdc7",
   "metadata": {},
   "outputs": [
    {
     "name": "stdout",
     "output_type": "stream",
     "text": [
      "(30, 25, 20, 15, 10, 5)\n"
     ]
    }
   ],
   "source": [
    "my_tuple =(5,10,15,20,25,30)\n",
    "print(my_tuple[::-1])"
   ]
  },
  {
   "cell_type": "markdown",
   "id": "3cd347d1",
   "metadata": {},
   "source": [
    "**53-Write a Python program to replace the last value of tuples in a list.\n",
    "Sample list: [(10, 20, 40), (40, 50, 60), (70, 80, 90)]\n",
    "Expected Output: [(10, 20, 100), (40, 50, 100), (70, 80, 100)]"
   ]
  },
  {
   "cell_type": "code",
   "execution_count": 133,
   "id": "3c4a2a4c",
   "metadata": {},
   "outputs": [
    {
     "name": "stdout",
     "output_type": "stream",
     "text": [
      "Updated tuple list: [(10, 20, 100), (40, 50, 100), (70, 80, 100)]\n"
     ]
    }
   ],
   "source": [
    "# Define the sample list\n",
    "tuple_list = [(10, 20, 40), (40, 50, 60), (70, 80, 90)]\n",
    "new_value = 100\n",
    "new_list = []\n",
    "for element in tuple_list:\n",
    "    # Create a new tuple with the last element replaced with the new value\n",
    "    new_tuple = element[:-1] + (new_value,)\n",
    "    # Add the new tuple to the new list\n",
    "    new_list.append(new_tuple)\n",
    "print(\"Updated tuple list:\", new_list)"
   ]
  },
  {
   "cell_type": "markdown",
   "id": "76bb7b39",
   "metadata": {},
   "source": [
    "**54-Write a Python program to convert a given string list to a tuple\n",
    "Original string: python 3.0\n",
    "<class 'str'>\n",
    "Convert the said string to a tuple:\n",
    "('p', 'y', 't', 'h', 'o', 'n', '3', '.', '0')"
   ]
  },
  {
   "cell_type": "code",
   "execution_count": 139,
   "id": "51951937",
   "metadata": {},
   "outputs": [
    {
     "name": "stdout",
     "output_type": "stream",
     "text": [
      "Original string:\n",
      "python 3.0\n",
      "<class 'str'>\n",
      "Convert the said string to a tuple:\n"
     ]
    },
    {
     "ename": "TypeError",
     "evalue": "'tuple' object is not callable",
     "output_type": "error",
     "traceback": [
      "\u001b[1;31m---------------------------------------------------------------------------\u001b[0m",
      "\u001b[1;31mTypeError\u001b[0m                                 Traceback (most recent call last)",
      "\u001b[1;32m~\\AppData\\Local\\Temp\\ipykernel_31832\\3289081160.py\u001b[0m in \u001b[0;36m<module>\u001b[1;34m\u001b[0m\n\u001b[0;32m      7\u001b[0m \u001b[0mprint\u001b[0m\u001b[1;33m(\u001b[0m\u001b[0mtype\u001b[0m\u001b[1;33m(\u001b[0m\u001b[0mstr1\u001b[0m\u001b[1;33m)\u001b[0m\u001b[1;33m)\u001b[0m\u001b[1;33m\u001b[0m\u001b[1;33m\u001b[0m\u001b[0m\n\u001b[0;32m      8\u001b[0m \u001b[0mprint\u001b[0m\u001b[1;33m(\u001b[0m\u001b[1;34m\"Convert the said string to a tuple:\"\u001b[0m\u001b[1;33m)\u001b[0m\u001b[1;33m\u001b[0m\u001b[1;33m\u001b[0m\u001b[0m\n\u001b[1;32m----> 9\u001b[1;33m \u001b[0mprint\u001b[0m\u001b[1;33m(\u001b[0m\u001b[0mstring_list_to_tuple\u001b[0m\u001b[1;33m(\u001b[0m\u001b[0mstr1\u001b[0m\u001b[1;33m)\u001b[0m\u001b[1;33m)\u001b[0m\u001b[1;33m\u001b[0m\u001b[1;33m\u001b[0m\u001b[0m\n\u001b[0m\u001b[0;32m     10\u001b[0m \u001b[0mprint\u001b[0m\u001b[1;33m(\u001b[0m\u001b[0mtype\u001b[0m\u001b[1;33m(\u001b[0m\u001b[0mstring_list_to_tuple\u001b[0m\u001b[1;33m(\u001b[0m\u001b[0mstr1\u001b[0m\u001b[1;33m)\u001b[0m\u001b[1;33m)\u001b[0m\u001b[1;33m)\u001b[0m\u001b[1;33m\u001b[0m\u001b[1;33m\u001b[0m\u001b[0m\n",
      "\u001b[1;32m~\\AppData\\Local\\Temp\\ipykernel_31832\\3289081160.py\u001b[0m in \u001b[0;36mstring_list_to_tuple\u001b[1;34m(str1)\u001b[0m\n\u001b[0;32m      1\u001b[0m \u001b[1;32mdef\u001b[0m \u001b[0mstring_list_to_tuple\u001b[0m\u001b[1;33m(\u001b[0m\u001b[0mstr1\u001b[0m\u001b[1;33m)\u001b[0m\u001b[1;33m:\u001b[0m\u001b[1;33m\u001b[0m\u001b[1;33m\u001b[0m\u001b[0m\n\u001b[1;32m----> 2\u001b[1;33m     \u001b[0mresult\u001b[0m \u001b[1;33m=\u001b[0m \u001b[0mtuple\u001b[0m\u001b[1;33m(\u001b[0m\u001b[0mx\u001b[0m \u001b[1;32mfor\u001b[0m \u001b[0mx\u001b[0m \u001b[1;32min\u001b[0m \u001b[0mstr1\u001b[0m \u001b[1;32mif\u001b[0m \u001b[1;32mnot\u001b[0m \u001b[0mx\u001b[0m\u001b[1;33m.\u001b[0m\u001b[0misspace\u001b[0m\u001b[1;33m(\u001b[0m\u001b[1;33m)\u001b[0m\u001b[1;33m)\u001b[0m\u001b[1;33m\u001b[0m\u001b[1;33m\u001b[0m\u001b[0m\n\u001b[0m\u001b[0;32m      3\u001b[0m     \u001b[1;32mreturn\u001b[0m \u001b[0mresult\u001b[0m\u001b[1;33m\u001b[0m\u001b[1;33m\u001b[0m\u001b[0m\n\u001b[0;32m      4\u001b[0m \u001b[0mstr1\u001b[0m \u001b[1;33m=\u001b[0m \u001b[1;34m\"python 3.0\"\u001b[0m\u001b[1;33m\u001b[0m\u001b[1;33m\u001b[0m\u001b[0m\n\u001b[0;32m      5\u001b[0m \u001b[0mprint\u001b[0m\u001b[1;33m(\u001b[0m\u001b[1;34m\"Original string:\"\u001b[0m\u001b[1;33m)\u001b[0m\u001b[1;33m\u001b[0m\u001b[1;33m\u001b[0m\u001b[0m\n",
      "\u001b[1;31mTypeError\u001b[0m: 'tuple' object is not callable"
     ]
    }
   ],
   "source": [
    "def string_list_to_tuple(str1):\n",
    "    result = tuple(x for x in str1 if not x.isspace()) \n",
    "    return result\n",
    "str1 = \"python 3.0\"\n",
    "print(\"Original string:\")\n",
    "print(str1)\n",
    "print(type(str1))\n",
    "print(\"Convert the said string to a tuple:\") \n",
    "print(string_list_to_tuple(str1))\n",
    "print(type(string_list_to_tuple(str1)))"
   ]
  },
  {
   "cell_type": "markdown",
   "id": "5a1d5d97",
   "metadata": {},
   "source": [
    "**55-Write a Python program to calculate the average value of the numbers in a given tuple of tuples"
   ]
  },
  {
   "cell_type": "code",
   "execution_count": 142,
   "id": "834e7992",
   "metadata": {},
   "outputs": [
    {
     "name": "stdout",
     "output_type": "stream",
     "text": [
      "Original tuple: ((10, 20, 30), (40, 50, 60), (70, 80, 90))\n",
      "Average value: 50.0\n"
     ]
    }
   ],
   "source": [
    "# Define the sample tuple of tuples\n",
    "my_tuple = ((10, 20, 30), (40, 50, 60), (70, 80, 90)) # 45/5 =5 \n",
    "total_sum = 0\n",
    "count = 0\n",
    "for tup in my_tuple:\n",
    "    for num in tup:\n",
    "        total_sum += num\n",
    "        count += 1\n",
    "\n",
    "average = total_sum / count\n",
    "\n",
    "# Print the original tuple and the average value\n",
    "print(\"Original tuple:\", my_tuple)\n",
    "print(\"Average value:\", average)"
   ]
  },
  {
   "cell_type": "markdown",
   "id": "51edab9c",
   "metadata": {},
   "source": [
    "**56-Write a Python program to add member(s) to a set."
   ]
  },
  {
   "cell_type": "code",
   "execution_count": 144,
   "id": "2b65df79",
   "metadata": {},
   "outputs": [
    {
     "name": "stdout",
     "output_type": "stream",
     "text": [
      "{5, 7, 9, 11, 13, 15, 17}\n"
     ]
    }
   ],
   "source": [
    "# Define the original set\n",
    "original_set = {5, 7, 9}\n",
    "original_set.add(11)\n",
    "# Add multiple members to the set\n",
    "original_set.update([13, 15, 17])\n",
    "print(original_set)"
   ]
  },
  {
   "cell_type": "markdown",
   "id": "965590cc",
   "metadata": {},
   "source": [
    "**57-Write a Python program to remove an item from a set if it is present in the set."
   ]
  },
  {
   "cell_type": "code",
   "execution_count": 146,
   "id": "866bab28",
   "metadata": {},
   "outputs": [
    {
     "name": "stdout",
     "output_type": "stream",
     "text": [
      "Item not found in the set.\n",
      "{1, 2, 4}\n"
     ]
    }
   ],
   "source": [
    "# Define the original set\n",
    "original_set = {1, 2, 3, 4, 5}\n",
    "\n",
    "# Remove an item from the set using discard()\n",
    "original_set.discard(3)\n",
    "original_set.remove(5)\n",
    "\n",
    "# Try to remove an item that is not in the set using discard()\n",
    "original_set.discard(6)\n",
    "\n",
    "# Try to remove an item that is not in the set using remove()\n",
    "try:\n",
    "    original_set.remove(6)\n",
    "except KeyError:\n",
    "    print(\"Item not found in the set.\")\n",
    "print(original_set)"
   ]
  },
  {
   "cell_type": "markdown",
   "id": "2b7cfed1",
   "metadata": {},
   "source": [
    "**58-Write a Python program to create an intersection,union,difference and symmetric difference of sets"
   ]
  },
  {
   "cell_type": "code",
   "execution_count": 147,
   "id": "7f94b7fe",
   "metadata": {},
   "outputs": [
    {
     "name": "stdout",
     "output_type": "stream",
     "text": [
      "Intersection:  {4, 5}\n",
      "Union:  {1, 2, 3, 4, 5, 6, 7, 8}\n",
      "Difference:  {1, 2, 3}\n",
      "Symmetric Difference:  {1, 2, 3, 6, 7, 8}\n"
     ]
    }
   ],
   "source": [
    "set1 = {1, 2, 3, 4, 5}\n",
    "set2 = {4, 5, 6, 7, 8}\n",
    "\n",
    "# Find the intersection of the two sets\n",
    "intersection = set1 & set2\n",
    "\n",
    "# Find the union of the two sets\n",
    "union = set1 | set2\n",
    "\n",
    "# Find the difference between the two sets\n",
    "difference = set1 - set2\n",
    "\n",
    "# Find the symmetric difference between the two sets\n",
    "symmetric_difference = set1.symmetric_difference(set2)\n",
    "\n",
    "# Print the results\n",
    "print(\"Intersection: \", intersection)\n",
    "print(\"Union: \", union)\n",
    "print(\"Difference: \", difference)\n",
    "print(\"Symmetric Difference: \", symmetric_difference)"
   ]
  },
  {
   "cell_type": "markdown",
   "id": "b94931e2",
   "metadata": {},
   "source": [
    "**59-Write a Python program to find the maximum and minimum values in a set"
   ]
  },
  {
   "cell_type": "code",
   "execution_count": 150,
   "id": "203f9600",
   "metadata": {},
   "outputs": [
    {
     "name": "stdout",
     "output_type": "stream",
     "text": [
      "The Max value is 50\n",
      "The Min value is 10\n"
     ]
    }
   ],
   "source": [
    "my_set = {10,20,30,40,50}\n",
    "max_value = max(my_set)\n",
    "min_value = min(my_set)\n",
    "print(f\"The Max value is {max_value}\")\n",
    "print(f\"The Min value is {min_value}\")"
   ]
  },
  {
   "cell_type": "markdown",
   "id": "255fd554",
   "metadata": {},
   "source": [
    "**60- Write a Python program that finds all pairs of elements in a list whose sum is equal to a given value."
   ]
  },
  {
   "cell_type": "code",
   "execution_count": 151,
   "id": "c2d94e1f",
   "metadata": {},
   "outputs": [
    {
     "name": "stdout",
     "output_type": "stream",
     "text": [
      "Pairs with sum equal to 10\n",
      "(1, 9)\n",
      "(2, 8)\n",
      "(3, 7)\n",
      "(4, 6)\n"
     ]
    }
   ],
   "source": [
    "# Define the list and the target sum\n",
    "my_list = [1, 2, 3, 4, 5, 6, 7, 8, 9]\n",
    "target_sum = 10\n",
    "\n",
    "# Find all the pairs whose sum is equal to the target sum\n",
    "result = []\n",
    "for i in range(len(my_list)):\n",
    "    for j in range(i+1, len(my_list)):\n",
    "        if my_list[i] + my_list[j] == target_sum:\n",
    "            result.append((my_list[i], my_list[j]))\n",
    "\n",
    "# Print the result pairs\n",
    "print(\"Pairs with sum equal to\", target_sum)\n",
    "for pair in result:\n",
    "    print(pair)"
   ]
  },
  {
   "cell_type": "code",
   "execution_count": null,
   "id": "454c43ba",
   "metadata": {},
   "outputs": [],
   "source": []
  }
 ],
 "metadata": {
  "kernelspec": {
   "display_name": "Python 3 (ipykernel)",
   "language": "python",
   "name": "python3"
  },
  "language_info": {
   "codemirror_mode": {
    "name": "ipython",
    "version": 3
   },
   "file_extension": ".py",
   "mimetype": "text/x-python",
   "name": "python",
   "nbconvert_exporter": "python",
   "pygments_lexer": "ipython3",
   "version": "3.9.13"
  },
  "varInspector": {
   "cols": {
    "lenName": 16,
    "lenType": 16,
    "lenVar": 40
   },
   "kernels_config": {
    "python": {
     "delete_cmd_postfix": "",
     "delete_cmd_prefix": "del ",
     "library": "var_list.py",
     "varRefreshCmd": "print(var_dic_list())"
    },
    "r": {
     "delete_cmd_postfix": ") ",
     "delete_cmd_prefix": "rm(",
     "library": "var_list.r",
     "varRefreshCmd": "cat(var_dic_list()) "
    }
   },
   "types_to_exclude": [
    "module",
    "function",
    "builtin_function_or_method",
    "instance",
    "_Feature"
   ],
   "window_display": false
  }
 },
 "nbformat": 4,
 "nbformat_minor": 5
}
