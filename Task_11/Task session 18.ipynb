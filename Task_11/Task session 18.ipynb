{
 "cells": [
  {
   "cell_type": "code",
   "execution_count": null,
   "id": "7cbf98eb",
   "metadata": {},
   "outputs": [],
   "source": [
    "#Task1: How to sort dataframe by index and how to sort dataframe by specific column?"
   ]
  },
  {
   "cell_type": "code",
   "execution_count": 3,
   "id": "32ebcbe1",
   "metadata": {
    "ExecuteTime": {
     "end_time": "2023-10-08T05:33:50.683876Z",
     "start_time": "2023-10-08T05:33:50.660332Z"
    }
   },
   "outputs": [
    {
     "name": "stdout",
     "output_type": "stream",
     "text": [
      "   col1  col2\n",
      "0    10    40\n",
      "1    20    50\n",
      "2    30    60\n"
     ]
    }
   ],
   "source": [
    "import pandas as pd\n",
    "\n",
    "# Create a sample DataFrame\n",
    "data = {'col1': [10,20,30], 'col2': [40, 50, 60]}\n",
    "df = pd.DataFrame(data, index=[0,1,2])\n",
    "\n",
    "# Sort the DataFrame by index\n",
    "df_sorted_index = df.sort_index()\n",
    "\n",
    "print(df_sorted_index)"
   ]
  },
  {
   "cell_type": "code",
   "execution_count": 7,
   "id": "41ec6a4f",
   "metadata": {
    "ExecuteTime": {
     "end_time": "2023-10-08T05:36:20.019235Z",
     "start_time": "2023-10-08T05:36:19.997174Z"
    }
   },
   "outputs": [
    {
     "name": "stdout",
     "output_type": "stream",
     "text": [
      "   col1  col2\n",
      "0     5    20\n",
      "1    10    25\n",
      "2    15    30\n"
     ]
    }
   ],
   "source": [
    "import pandas as pd\n",
    "\n",
    "# Create a sample DataFrame\n",
    "data = {'col1': [5, 10, 15], 'col2': [20, 25, 30]}\n",
    "df = pd.DataFrame(data)\n",
    "\n",
    "# Sort the DataFrame by a specific column\n",
    "df_sorted_column = df.sort_values(by='col1')\n",
    "\n",
    "print(df_sorted_column)"
   ]
  },
  {
   "cell_type": "code",
   "execution_count": 17,
   "id": "ca70553b",
   "metadata": {
    "ExecuteTime": {
     "end_time": "2023-10-08T05:48:39.808703Z",
     "start_time": "2023-10-08T05:48:39.791551Z"
    }
   },
   "outputs": [
    {
     "data": {
      "text/plain": [
       "[['banana', 10], ['apple', 15], ['orange', 15], ['mango', 20], ['kiwi', 25]]"
      ]
     },
     "execution_count": 17,
     "metadata": {},
     "output_type": "execute_result"
    }
   ],
   "source": [
    "#Task2: What is lambda expression?\n",
    "# example \n",
    "fruits = [\n",
    "    [\"orange\",15],\n",
    "    [\"banana\",10],\n",
    "    [\"apple\",15],\n",
    "    [\"mango\",20],\n",
    "    [\"kiwi\",25] \n",
    "]\n",
    "sorted(fruits,key=lambda fruits: (fruits[1],fruits[0]))"
   ]
  },
  {
   "cell_type": "code",
   "execution_count": 18,
   "id": "020bd39a",
   "metadata": {
    "ExecuteTime": {
     "end_time": "2023-10-08T05:49:34.360976Z",
     "start_time": "2023-10-08T05:49:34.353994Z"
    }
   },
   "outputs": [
    {
     "name": "stdout",
     "output_type": "stream",
     "text": [
      "25\n"
     ]
    }
   ],
   "source": [
    "square = lambda x: x**2\n",
    "result = square(5)\n",
    "print(result)  "
   ]
  },
  {
   "cell_type": "code",
   "execution_count": 22,
   "id": "ed34899b",
   "metadata": {
    "ExecuteTime": {
     "end_time": "2023-10-08T05:56:42.787800Z",
     "start_time": "2023-10-08T05:56:42.758271Z"
    }
   },
   "outputs": [
    {
     "name": "stdout",
     "output_type": "stream",
     "text": [
      "Original DataFrame:\n",
      "   col1  col2\n",
      "0    10     1\n",
      "1    12     2\n",
      "2    15     3\n",
      "3    20     4\n",
      "4    25     5\n",
      "5    50     6\n",
      "6   100     7\n",
      "7   200     8\n",
      "8   500    14\n",
      "9   700    43\n",
      "----------------------------------------\n",
      "\n",
      "Cleaned DataFrame:\n",
      "   col1  col2\n",
      "0    10     1\n",
      "1    12     2\n",
      "2    15     3\n",
      "3    20     4\n",
      "4    25     5\n",
      "5    50     6\n",
      "6   100     7\n",
      "7   200     8\n",
      "8   500    14\n"
     ]
    }
   ],
   "source": [
    "#Task3: How to detect and remove outliers using pandas?\n",
    "import pandas as pd\n",
    "\n",
    "# إنشاء DataFrame عينة\n",
    "data = {'col1': [10, 12, 15, 20, 25, 50, 100, 200,500,700], 'col2': [1, 2, 3, 4, 5, 6, 7, 8,14,43]}\n",
    "df = pd.DataFrame(data)\n",
    "\n",
    "Q1 = df.quantile(0.25)\n",
    "Q3 = df.quantile(0.75)\n",
    "IQR = Q3 - Q1\n",
    "\n",
    "lower_bound = Q1 - 1.5 * IQR\n",
    "upper_bound = Q3 + 1.5 * IQR\n",
    "\n",
    "outliers = df[(df < lower_bound) | (df > upper_bound)].dropna()\n",
    "\n",
    "df_cleaned = df.drop(outliers.index)\n",
    "\n",
    "print(\"Original DataFrame:\")\n",
    "print(df)\n",
    "print(40*\"-\")\n",
    "print(\"\\nCleaned DataFrame:\")\n",
    "print(df_cleaned)"
   ]
  },
  {
   "cell_type": "code",
   "execution_count": 30,
   "id": "54f82455",
   "metadata": {
    "ExecuteTime": {
     "end_time": "2023-10-08T05:58:32.014830Z",
     "start_time": "2023-10-08T05:58:31.989716Z"
    }
   },
   "outputs": [
    {
     "name": "stdout",
     "output_type": "stream",
     "text": [
      "  tickers    eps  revenue price      people\n",
      "0   GOOGL  27.82       87   845  larry page\n"
     ]
    }
   ],
   "source": [
    "# task 4 : how to read random row from our data \n",
    "import pandas as pd\n",
    "df = pd.read_csv(\"C:\\\\Users\\\\HP\\\\Downloads\\\\Ai online\\\\Material\\\\Material\\\\16- Pandas\\\\4_read_write_to_excel\\\\stock_data.csv\")\n",
    "random_row = df.sample(n=1)\n",
    "print(random_row)"
   ]
  },
  {
   "cell_type": "code",
   "execution_count": 35,
   "id": "a9c740ab",
   "metadata": {
    "ExecuteTime": {
     "end_time": "2023-10-08T06:10:36.655584Z",
     "start_time": "2023-10-08T06:10:36.642418Z"
    }
   },
   "outputs": [
    {
     "name": "stdout",
     "output_type": "stream",
     "text": [
      "      Name  Age\n",
      "0  mohamed   21\n",
      "1  soliman   20\n",
      "2      Ali   19\n",
      "3     seif   21\n",
      "4    ahmed   10\n"
     ]
    }
   ],
   "source": [
    "#Task5: How to combine more than two dataframes at the same tiem?\n",
    "import pandas as pd \n",
    "data1 = pd.DataFrame({\"Name\":[\"mohamed\",\"soliman\",\"Ali\"],\"Age\":[21,20,19]})\n",
    "data2 = pd.DataFrame({\"Name\":[\"seif\",\"ahmed\"],\"Age\":[21,10]})\n",
    "combined_of = pd.concat([data1,data2],ignore_index=True)\n",
    "print(combined_of)"
   ]
  },
  {
   "cell_type": "code",
   "execution_count": 37,
   "id": "29f19c29",
   "metadata": {
    "ExecuteTime": {
     "end_time": "2023-10-08T06:15:22.709580Z",
     "start_time": "2023-10-08T06:15:22.686212Z"
    }
   },
   "outputs": [
    {
     "name": "stdout",
     "output_type": "stream",
     "text": [
      "     A   B    C\n",
      "0   10  50   90\n",
      "1  150  60  100\n",
      "2   30  70  110\n",
      "3   40  80  120\n"
     ]
    }
   ],
   "source": [
    "#Task6: Replace data in specific columns with specific value.\n",
    "import pandas as pd\n",
    "\n",
    "# Create a sample DataFrame\n",
    "data = {'A': [10, 20, 30, 40], 'B': [50, 60, 70, 80], 'C': [90, 100, 110, 120]}\n",
    "df = pd.DataFrame(data)\n",
    "\n",
    "# Replace values in column 'A' with a specific value\n",
    "df['A'] = df['A'].replace(20, 150)\n",
    "print(df)"
   ]
  },
  {
   "cell_type": "code",
   "execution_count": 44,
   "id": "bd26fc94",
   "metadata": {
    "ExecuteTime": {
     "end_time": "2023-10-08T06:29:44.977674Z",
     "start_time": "2023-10-08T06:29:44.917388Z"
    }
   },
   "outputs": [],
   "source": [
    "#Task7: Write dataframes to two separate sheets in excel.\n",
    "import pandas as pd\n",
    "\n",
    "df_stocks = pd.DataFrame({\n",
    "    'tickers': ['GOOGL', 'WMT', 'MSFT'],\n",
    "    'price': [845, 65, 64 ],\n",
    "    'pe': [30.37, 14.26, 30.97],\n",
    "    'eps': [27.82, 4.61, 2.12]\n",
    "})\n",
    "df_weather =  pd.DataFrame({\n",
    "    'day': ['1/1/2017','1/2/2017','1/3/2017'],\n",
    "    'temperature': [32,35,28],\n",
    "    'event': ['Rain', 'Sunny', 'Snow']\n",
    "})\n",
    "with pd.ExcelWriter('C:\\\\Users\\\\HP\\\\Downloads\\\\Ai online\\\\Tasks\\\\Task_11\\\\stocks_weather.xlsx') as writer:\n",
    "    df_stocks.to_excel(writer, sheet_name=\"stocks\")\n",
    "    df_weather.to_excel(writer, sheet_name=\"weather\")"
   ]
  },
  {
   "cell_type": "code",
   "execution_count": null,
   "id": "90cde540",
   "metadata": {},
   "outputs": [],
   "source": []
  }
 ],
 "metadata": {
  "kernelspec": {
   "display_name": "Python 3 (ipykernel)",
   "language": "python",
   "name": "python3"
  },
  "language_info": {
   "codemirror_mode": {
    "name": "ipython",
    "version": 3
   },
   "file_extension": ".py",
   "mimetype": "text/x-python",
   "name": "python",
   "nbconvert_exporter": "python",
   "pygments_lexer": "ipython3",
   "version": "3.9.13"
  },
  "varInspector": {
   "cols": {
    "lenName": 16,
    "lenType": 16,
    "lenVar": 40
   },
   "kernels_config": {
    "python": {
     "delete_cmd_postfix": "",
     "delete_cmd_prefix": "del ",
     "library": "var_list.py",
     "varRefreshCmd": "print(var_dic_list())"
    },
    "r": {
     "delete_cmd_postfix": ") ",
     "delete_cmd_prefix": "rm(",
     "library": "var_list.r",
     "varRefreshCmd": "cat(var_dic_list()) "
    }
   },
   "types_to_exclude": [
    "module",
    "function",
    "builtin_function_or_method",
    "instance",
    "_Feature"
   ],
   "window_display": false
  }
 },
 "nbformat": 4,
 "nbformat_minor": 5
}
