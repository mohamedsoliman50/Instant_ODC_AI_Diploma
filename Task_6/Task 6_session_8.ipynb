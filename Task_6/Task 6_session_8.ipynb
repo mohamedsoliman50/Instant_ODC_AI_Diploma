{
 "cells": [
  {
   "cell_type": "code",
   "execution_count": 8,
   "id": "c34d9556",
   "metadata": {
    "ExecuteTime": {
     "end_time": "2023-08-20T04:40:17.102916Z",
     "start_time": "2023-08-20T04:39:11.917329Z"
    }
   },
   "outputs": [
    {
     "name": "stdout",
     "output_type": "stream",
     "text": [
      "employees names :\n",
      "['Mohamed Ahmed ', 'Ahmed Ali ', 'Fatma Omar ', 'Khaled Samir ', 'Youssef Mahmoud ', 'Aya Ahmed ', 'Mona Tarek ', 'Amr Mohamed ', 'Laila Ali ', 'Omar Hassan ', 'Noha Yassin ', 'Amina Ibrahim ', 'Ali Samir ', 'Sarah Ahmed ', 'Tarek Hassan ', 'Hassan Ali ', 'Samar Mahmoud ', 'Eman Ali ', 'Amal Omar ', 'Youssef Samir ', 'Dalia Ahmed ', 'Hany Tarek ', 'Asmaa Hassan ', 'Khaled Ali ', 'Nada Yassin ', 'Sara Mahmoud ', 'Ramy Omar ', 'Hassan Samir ', 'Mariam Ahmed ', 'Omar Ali ', 'Mai Tarek ', 'Hanaa Hassan ', 'Ali Yassin ', 'Nour Mahmoud ', 'Yara Omar ']\n",
      "____________________________________________________________\n",
      "employee phones :\n",
      "[' 0102030405 ', ' 0115030406 ', ' 0107030408 ', ' 0108030409 ', ' 0119030410 ', ' 0130030411 ', ' 0140030412 ', ' 0150030413 ', ' 0160030414 ', ' 0170030415 ', ' 0180030416 ', ' 0190030417 ', ' 0200030418 ', ' 0210030419 ', ' 0220030420 ', ' 0230030421 ', ' 0240030422 ', ' 0250030423 ', ' 0260030424 ', ' 0270030425 ', ' 0280030426 ', ' 0290030427 ', ' 0300030428 ', ' 0310030429 ', ' 0320030430 ', ' 0330030431 ', ' 0340030432 ', ' 0350030433 ', ' 0360030434 ', ' 0370030435 ', ' 0380030436 ', ' 0390030437 ', ' 0400030438 ', ' 0410030439 ', ' 0420030440 ']\n",
      "____________________________________________________________\n",
      "employee birthday :\n",
      "[' 10/10/1990 ', ' 8/9/1984 ', ' 2/3/1995 ', ' 12/5/1987 ', ' 4/2/1994 ', ' 20/11/1998 ', ' 15/1/1991 ', ' 18/6/1989 ', ' 3/12/1993 ', ' 26/8/1986 ', ' 7/9/1990 ', ' 11/7/1985 ', ' 14/3/1997 ', ' 19/9/1992 ', ' 22/1/1988 ', ' 4/7/1994 ', ' 9/6/1985 ', ' 27/2/1991 ', ' 13/11/1998 ', ' 5/5/1989 ', ' 30/8/1993 ', ' 19/3/1987 ', ' 21/2/1992 ', ' 10/10/1985 ', ' 17/1/1994 ', ' 8/4/1990 ', ' 21/9/1985 ', ' 12/8/1997 ', ' 23/12/1992 ', ' 17/11/1988 ', ' 6/6/1991 ', ' 3/3/1986 ', ' 2/2/1995 ', ' 11/6/1989 ', ' 14/7/1993 ']\n",
      "____________________________________________________________\n",
      "employee salary :\n",
      "[' 12000', ' 15000', ' 10000', ' 14000', ' 17000', ' 13000', ' 16000', ' 12000', ' 15000', ' 18000', ' 10000', ' 14000', ' 17000', ' 13000', ' 16000', ' 12000', ' 15000', ' 18000', ' 10000', ' 14000', ' 17000', ' 13000', ' 16000', ' 12000', ' 15000', ' 18000', ' 10000', ' 14000', ' 17000', ' 13000', ' 16000', ' 12000', ' 15000', ' 18000', ' 10000']\n",
      "____________________________________________________________\n",
      "employee name is Fatma Omar and salary is  10000$\n",
      "____________________________________________________________\n",
      "The employees in the company :34 employees\n",
      "____________________________________________________________\n",
      "please enter your index name : 0\n",
      "please enter your index phone : 0\n",
      "please enter your index birthday : 0\n",
      "please enter your index salary : 0\n",
      "Employee Information ,employee 1:name is Mohamed Ahmed  and phone is  0102030405 and birthday is  10/10/1990  and salary is  12000 $\n",
      "___________________________________\n",
      "please enter your index name : 1\n",
      "please enter your index phone : 1\n",
      "please enter your index birthday : 1\n",
      "please enter your index salary : 1\n",
      "Employee Information ,employee 2:name is Ahmed Ali  and phone is  0115030406 and birthday is  8/9/1984  and salary is  15000 $\n",
      "___________________________________\n",
      "please enter your index name : 2\n",
      "please enter your index phone : 2\n",
      "please enter your index birthday : 2\n",
      "please enter your index salary : 2\n",
      "Employee Information ,employee 3:name is Fatma Omar  and phone is  0107030408 and birthday is  2/3/1995  and salary is  10000 $\n",
      "___________________________________\n"
     ]
    }
   ],
   "source": [
    "with open(\"C:\\\\Users\\\\HP\\Downloads\\\\Ai online\\\\Tasks\\\\Task_6\\\\data.txt\") as f:\n",
    "    employee_data = f.readlines() \n",
    "    list_names =[] \n",
    "    list_phones = []\n",
    "    list_birthdays = []\n",
    "    list_salarys = []\n",
    "    for employee in employee_data :\n",
    "        emp = (employee.strip().split(\"-\"))\n",
    "        if len(emp) >=4 :\n",
    "            list_names.append(emp[0])\n",
    "            list_phones.append(emp[1])\n",
    "            list_birthdays.append(emp[2])\n",
    "            list_salarys.append(emp[3])\n",
    "    print(f\"employees names :\\n{list_names}\")\n",
    "    print(60*\"_\")\n",
    "    print(f\"employee phones :\\n{list_phones}\")\n",
    "    print(60*\"_\")\n",
    "    print(f\"employee birthday :\\n{list_birthdays}\")\n",
    "    print(60*\"_\")\n",
    "    print(f\"employee salary :\\n{list_salarys}\")\n",
    "    print(60*\"_\")\n",
    "    print(f\"employee name is {list_names[2]}and salary is {list_salarys[2]}$\")\n",
    "    print(60*\"_\")\n",
    "    print(f\"The employees in the company :{len(list_names)-1} employees\")\n",
    "    print(60*\"_\")\n",
    "    i=0\n",
    "    while i<3:\n",
    "        index_name = int(input(\"please enter your index name : \"))\n",
    "        index_phone = int(input(\"please enter your index phone : \"))\n",
    "        index_birthday = int(input(\"please enter your index birthday : \"))\n",
    "        index_salary = int(input(\"please enter your index salary : \"))\n",
    "        print(f\"Employee Information ,employee {index_name+1}:name is {list_names[index_name]} and phone is {list_phones[index_phone]}and birthday is {list_birthdays[index_birthday]} and salary is {list_salarys[index_salary]} $\")\n",
    "        print(35*\"_\")\n",
    "        i+=1\n"
   ]
  },
  {
   "cell_type": "code",
   "execution_count": 1,
   "id": "fcf5f77e",
   "metadata": {
    "ExecuteTime": {
     "end_time": "2023-08-20T04:41:01.762868Z",
     "start_time": "2023-08-20T04:40:52.157685Z"
    }
   },
   "outputs": [
    {
     "name": "stdout",
     "output_type": "stream",
     "text": [
      "The employees in the company :34 employees\n",
      "please enter your index name : 1\n",
      "please enter your index phone : 1\n",
      "please enter your index birthday : 1\n",
      "please enter your index salary : 1\n",
      "Add to file employee_new_data.txt \n",
      "____________________________________________________________________________________________________\n",
      "please enter your index name : 34\n",
      "please enter your index phone : 34\n",
      "please enter your index birthday : 34\n",
      "please enter your index salary : 34\n",
      "Add to file employee_new_data.txt \n",
      "____________________________________________________________________________________________________\n"
     ]
    }
   ],
   "source": [
    "#anther solve _ print result in new file (employee_new_data)\n",
    "with open(\"C:\\\\Users\\\\HP\\Downloads\\\\Ai online\\\\Tasks\\\\Task_6\\\\data.txt\") as file:\n",
    "    employee_data = file.readlines() \n",
    "\n",
    "with open(\"employee_new_data.txt\",\"w\")as file:    #The output will be in the file(\"employee_new_data\")\n",
    "    list_names =[] \n",
    "    list_phones = []\n",
    "    list_birthdays = []\n",
    "    list_salarys = []\n",
    "    for employee in employee_data :\n",
    "        emp = (employee.strip().split(\"-\"))\n",
    "        if len(emp) >=4 :\n",
    "            list_names.append(emp[0])\n",
    "            list_phones.append(emp[1])\n",
    "            list_birthdays.append(emp[2])\n",
    "            list_salarys.append(emp[3])\n",
    "    file.write(f\"employees names :\\n{list_names}\\n\\n\")\n",
    "    file.write(f\"employee phones :\\n{list_phones}\\n\\n\")\n",
    "    file.write(f\"employee birthday :\\n{list_birthdays}\\n\\n\")\n",
    "    file.write(f\"employee salary :\\n{list_salarys}\\n\\n\")\n",
    "    file.write(f\"employee name is :{list_names[2]}and salary is {list_salarys[2]}$\\n\\n\")\n",
    "    print(f\"The employees in the company :{len(list_names)-1} employees\")\n",
    "    i=0\n",
    "    while i<2:\n",
    "        index_name = int(input(\"please enter your index name : \"))\n",
    "        index_phone = int(input(\"please enter your index phone : \"))\n",
    "        index_birthday = int(input(\"please enter your index birthday : \"))\n",
    "        index_salary = int(input(\"please enter your index salary : \"))\n",
    "        print(\"Add to file employee_new_data.txt \")\n",
    "        print(50*\"__\")\n",
    "        file.write(f\"Employee Information ,employee {index_name+1}:name is {list_names[index_name]} and phone is {list_phones[index_phone]}and birthday is {list_birthdays[index_birthday]} and salary is {list_salarys[index_salary]} $\\n\\n\")\n",
    "        i+=1"
   ]
  },
  {
   "cell_type": "code",
   "execution_count": null,
   "id": "f1f6b6e6",
   "metadata": {},
   "outputs": [],
   "source": []
  },
  {
   "cell_type": "code",
   "execution_count": null,
   "id": "e117c499",
   "metadata": {},
   "outputs": [],
   "source": []
  }
 ],
 "metadata": {
  "kernelspec": {
   "display_name": "Python 3 (ipykernel)",
   "language": "python",
   "name": "python3"
  },
  "language_info": {
   "codemirror_mode": {
    "name": "ipython",
    "version": 3
   },
   "file_extension": ".py",
   "mimetype": "text/x-python",
   "name": "python",
   "nbconvert_exporter": "python",
   "pygments_lexer": "ipython3",
   "version": "3.9.13"
  },
  "varInspector": {
   "cols": {
    "lenName": 16,
    "lenType": 16,
    "lenVar": 40
   },
   "kernels_config": {
    "python": {
     "delete_cmd_postfix": "",
     "delete_cmd_prefix": "del ",
     "library": "var_list.py",
     "varRefreshCmd": "print(var_dic_list())"
    },
    "r": {
     "delete_cmd_postfix": ") ",
     "delete_cmd_prefix": "rm(",
     "library": "var_list.r",
     "varRefreshCmd": "cat(var_dic_list()) "
    }
   },
   "types_to_exclude": [
    "module",
    "function",
    "builtin_function_or_method",
    "instance",
    "_Feature"
   ],
   "window_display": false
  }
 },
 "nbformat": 4,
 "nbformat_minor": 5
}
